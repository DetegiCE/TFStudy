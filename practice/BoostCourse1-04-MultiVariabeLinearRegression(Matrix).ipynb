{
 "cells": [
  {
   "cell_type": "code",
   "execution_count": 4,
   "metadata": {},
   "outputs": [],
   "source": [
    "import tensorflow as tf\n",
    "import numpy as np\n",
    "\n",
    "data = np.array([\n",
    "    [73., 80., 75., 152.],\n",
    "    [93., 88., 93., 185.],\n",
    "    [89., 91., 90., 180.],\n",
    "    [96., 98., 100., 196.],\n",
    "    [73., 66., 70., 142.]\n",
    "], dtype=np.float32)\n",
    "\n",
    "#slice data\n",
    "X = data[:, :-1]\n",
    "y = data[:, [-1]]\n",
    "\n",
    "W = tf.Variable(tf.random.normal([3, 1]))\n",
    "b = tf.Variable(tf.random.normal([1]))\n",
    "\n",
    "learning_rate = 0.000001\n",
    "\n",
    "#hypothesis, prediction function\n",
    "def predict(X):\n",
    "    return tf.matmul(X, W) + b"
   ]
  },
  {
   "cell_type": "code",
   "execution_count": 5,
   "metadata": {},
   "outputs": [
    {
     "name": "stdout",
     "output_type": "stream",
     "text": [
      "    0 | 47681.2109\n",
      "  100 |     6.5442\n",
      "  200 |     0.6736\n",
      "  300 |     0.6721\n",
      "  400 |     0.6712\n",
      "  500 |     0.6704\n",
      "  600 |     0.6696\n",
      "  700 |     0.6687\n",
      "  800 |     0.6679\n",
      "  900 |     0.6671\n",
      " 1000 |     0.6663\n",
      " 1100 |     0.6655\n",
      " 1200 |     0.6647\n",
      " 1300 |     0.6639\n",
      " 1400 |     0.6631\n",
      " 1500 |     0.6623\n",
      " 1600 |     0.6615\n",
      " 1700 |     0.6607\n",
      " 1800 |     0.6599\n",
      " 1900 |     0.6591\n",
      " 2000 |     0.6584\n"
     ]
    }
   ],
   "source": [
    "n_epochs = 2000\n",
    "\n",
    "for i in range(n_epochs + 1):\n",
    "    #record the gradient of the cost function\n",
    "    with tf.GradientTape() as tape:\n",
    "        cost = tf.reduce_mean((tf.square(predict(X) - y)))\n",
    "        \n",
    "    #calculate the gradients of the loss\n",
    "    W_grad, b_grad = tape.gradient(cost, [W, b])\n",
    "    \n",
    "    #update parameters (W, b)\n",
    "    W.assign_sub(learning_rate * W_grad)\n",
    "    b.assign_sub(learning_rate * b_grad)\n",
    "    \n",
    "    if i % 100 == 0:\n",
    "        print(\"{:5} | {:10.4f}\".format(i, cost.numpy()))"
   ]
  },
  {
   "cell_type": "code",
   "execution_count": null,
   "metadata": {},
   "outputs": [],
   "source": []
  }
 ],
 "metadata": {
  "kernelspec": {
   "display_name": "Python 3",
   "language": "python",
   "name": "python3"
  },
  "language_info": {
   "codemirror_mode": {
    "name": "ipython",
    "version": 3
   },
   "file_extension": ".py",
   "mimetype": "text/x-python",
   "name": "python",
   "nbconvert_exporter": "python",
   "pygments_lexer": "ipython3",
   "version": "3.7.4"
  }
 },
 "nbformat": 4,
 "nbformat_minor": 2
}
